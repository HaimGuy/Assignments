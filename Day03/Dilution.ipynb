{
 "cells": [
  {
   "cell_type": "code",
   "execution_count": null,
   "id": "a2ec37fd-75a0-4f52-85f7-5edee93eded9",
   "metadata": {},
   "outputs": [],
   "source": [
    "# Given values\n",
    "C1_values = [8,3,5,1,7,4,10,6,2,5,3,6,8,9] # TODO : at least 10 values\n",
    "V1 = 2 # TODO:Initial volume\n",
    "V2 = 6 # TODO: Final volume\n",
    "C2_values = []\n",
    "for C1 in C1_values:\n",
    "    C2 = (C1*V1)/V2\n",
    "    C2_values.append(C2)\n",
    "    print(f\"Initial concentration: {C1} mg/mL -> Final concentration: {C2:.2f} mg/mL\")"
   ]
  },
  {
   "cell_type": "code",
   "execution_count": null,
   "id": "eac39e43-a7a3-4b2e-a1a8-6f596d80f67f",
   "metadata": {},
   "outputs": [],
   "source": [
    "# Create an empty list to store slope values\n",
    "slopes = []\n",
    "\n",
    "# Calculate the slope for each consecutive pair of points\n",
    "for i in range(1, len(C1_values)):\n",
    "    x1, x2 = C1_values[i - 1], C1_values[i]\n",
    "    y1, y2 = C2_values[i - 1], C2_values[i]\n",
    "    slope = (y2-y1)/(x2-x1)   # TODO: Calculate the slope using the formula (y2 - y1) / (x2 - x1)\n",
    "\n",
    "    slopes.append(slope)\n",
    "\n",
    "# Print the list of calculated slopes\n",
    "print(\"Calculated slopes:\", slopes)"
   ]
  }
 ],
 "metadata": {
  "kernelspec": {
   "display_name": "Python 3 (ipykernel)",
   "language": "python",
   "name": "python3"
  },
  "language_info": {
   "codemirror_mode": {
    "name": "ipython",
    "version": 3
   },
   "file_extension": ".py",
   "mimetype": "text/x-python",
   "name": "python",
   "nbconvert_exporter": "python",
   "pygments_lexer": "ipython3",
   "version": "3.13.0"
  }
 },
 "nbformat": 4,
 "nbformat_minor": 5
}
