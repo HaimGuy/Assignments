{
 "cells": [
  {
   "cell_type": "markdown",
   "metadata": {},
   "source": [
    "# Homework Assignment: t-test, Histograms, and Boxplots"
   ]
  },
  {
   "cell_type": "markdown",
   "metadata": {},
   "source": [
    "In this assignment we will learn how to perform statistical comparisons using the t-test, visualize distributions with histograms, and summarize data with boxplots"
   ]
  },
  {
   "cell_type": "markdown",
   "metadata": {},
   "source": [
    "## <font color = \"pink\" > Task 1: Generate Two Random Distributions\n"
   ]
  },
  {
   "cell_type": "markdown",
   "metadata": {},
   "source": [
    "Generate two random distributions of size 100 each using numpy.random.randn. Add a shift to make the distributions different (e.g., add  +2 to the other).\n"
   ]
  },
  {
   "cell_type": "code",
   "execution_count": null,
   "metadata": {},
   "outputs": [],
   "source": [
    "import numpy as np\n",
    "\n",
    "# Generate random distributions\n",
    "dist1 = np.random.randn(100) #TODO:\n",
    "dist2 = dist1 + 2 #TODO:"
   ]
  },
  {
   "cell_type": "markdown",
   "metadata": {},
   "source": [
    "## <font color = \"pink\" > Task 2: Perform a t-test"
   ]
  },
  {
   "cell_type": "markdown",
   "metadata": {},
   "source": [
    "## t-test\n",
    "\n",
    "t-test checks if two populations are statistically different from each other.\n",
    "\n",
    "- [\n",
    "Python package for statistical functions: `scipy.stats.ttest_ind`](https://docs.scipy.org/doc/scipy/reference/generated/scipy.stats.ttest_ind.html)\n",
    "\n",
    "It returns a **P-value**. If the P-value is smaller than some threshold (e.g., 0.05, which is commonly used), we say that there is **(1 – threshold) * 100% confidence** that the populations are different.\n",
    "\n",
    "### Key Points:\n",
    "- **Smaller P-values** (usually below 0.05) indicate that the difference between two populations is statistically significant.\n",
    "- t-test assumes that the populations are sampled from **normal distributions**.\n",
    "- The **P-value magnitude** depends on the number of samples. Larger sample sizes lead to smaller P-values if the distributions are statistically different.\n",
    "\n"
   ]
  },
  {
   "cell_type": "markdown",
   "metadata": {},
   "source": [
    "\n",
    "Use the scipy.stats.ttest_ind function to perform an independent t-test on the two distributions"
   ]
  },
  {
   "cell_type": "code",
   "execution_count": null,
   "metadata": {},
   "outputs": [],
   "source": [
    "from scipy.stats import ttest_ind\n",
    "\n",
    "t_stat, p_value = ttest_ind(dist1, dist2)\n",
    "# Perform t-test on the 2 populations using the function `ttest_ind()` and print it\n",
    "\n",
    "print(\"t-statistic:\",t_stat)\n",
    "print(\"p-value:\",p_value)"
   ]
  },
  {
   "cell_type": "markdown",
   "metadata": {},
   "source": [
    "## <font color = \"pink\" >Task 3: Visualize with Histograms"
   ]
  },
  {
   "cell_type": "markdown",
   "metadata": {},
   "source": [
    "### Plot Histograms of Two Distributions\n",
    "\n",
    "- Use `matplotlib.pyplot.hist` to plot histograms of the two distributions.  \n",
    "- Use **different colors** for each histogram and add a **legend** to indicate the distributions.  \n",
    "- Refer to the [Matplotlib `hist` documentation](https://matplotlib.org/stable/api/_as_gen/matplotlib.pyplot.hist.html) for more details.\n"
   ]
  },
  {
   "cell_type": "code",
   "execution_count": null,
   "metadata": {},
   "outputs": [],
   "source": [
    "import matplotlib.pyplot as plt\n",
    "\n",
    "# Plot histograms\n",
    "plt.hist(dist1, bins=20, alpha=0.7, color='blue', label='Distribution 1') #TODO\n",
    "plt.hist(dist2, bins=20, alpha=0.7, color='orange', label='Distribution 2') #TODO\n",
    "plt.legend('blue - dist1, orange - dist2')  #TODO\n",
    "plt.title('Histograms of Two Distributions')  #TODO\n",
    "plt.xlabel('Value')  # TODO\n",
    "plt.ylabel('Frequency')  # TODO\n",
    "plt.show()  # TODO\n"
   ]
  },
  {
   "cell_type": "markdown",
   "metadata": {},
   "source": [
    "## <font color = \"pink\" >Task 4: Create Boxplots"
   ]
  },
  {
   "cell_type": "code",
   "execution_count": null,
   "metadata": {},
   "outputs": [],
   "source": [
    "# Create boxplots\n",
    "plt.boxplot([dist1, dist2])#TODO:\n",
    "plt.title('Histograms')#TODO:\n",
    "plt.ylabel('Frequency')#TODO:\n",
    "plt.show()\n"
   ]
  },
  {
   "cell_type": "markdown",
   "metadata": {},
   "source": [
    "## <font color ='pink'> # Task 4: Multiple Questions"
   ]
  },
  {
   "cell_type": "markdown",
   "metadata": {},
   "source": [
    "### Let's review what we learned in the previous class to refine our understanding 📝 :\n",
    "\n",
    "\n",
    "1. Write a loop to ask the user **five subtraction questions**.\n",
    "2. Use the following Python features:\n",
    "   - `random` to generate random numbers for the questions.\n",
    "   - `input()` to allow the user to answer each question.\n",
    "   - `int()` to convert the user input to an integer for comparison.\n",
    "3. Keep track of how many answers are correct.\n",
    "4. At the end, display the user's total score (e.g., \"You scored X/5!\").\n",
    "\n",
    "\n"
   ]
  },
  {
   "cell_type": "markdown",
   "metadata": {},
   "source": [
    "import random\n",
    "import sys\n",
    "\n",
    "count = 0\n",
    "right = 0 \n",
    "while count != 5:  \n",
    "    rand1 = random.randint(1, 50)\n",
    "    rand2 = random.randint(1, 50)\n",
    "    result = int(rand1 - rand2)\n",
    "    answer = int(input(f'What is {rand1} - {rand2}? '))\n",
    "    if result == answer:\n",
    "        count = count + 1\n",
    "        right = right + 1\n",
    "        continue\n",
    "    else:\n",
    "        count = count + 1 \n",
    "        continue\n",
    "print(f\"You got {right} out of 5 questions correct!\")"
   ]
  }
 ],
 "metadata": {
  "kernelspec": {
   "display_name": "Python 3 (ipykernel)",
   "language": "python",
   "name": "python3"
  },
  "language_info": {
   "codemirror_mode": {
    "name": "ipython",
    "version": 3
   },
   "file_extension": ".py",
   "mimetype": "text/x-python",
   "name": "python",
   "nbconvert_exporter": "python",
   "pygments_lexer": "ipython3",
   "version": "3.13.0"
  }
 },
 "nbformat": 4,
 "nbformat_minor": 4
}
