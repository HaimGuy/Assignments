{
 "cells": [
  {
   "cell_type": "code",
   "execution_count": 2,
   "id": "af22d852-90bb-4635-a1d8-ad487871e731",
   "metadata": {},
   "outputs": [
    {
     "name": "stdout",
     "output_type": "stream",
     "text": [
      "what is the radius? 3\n",
      "what is the width? 3\n",
      "what is the Length? 3\n"
     ]
    },
    {
     "name": "stdout",
     "output_type": "stream",
     "text": [
      "Area of a rectangle= 9\n",
      "Circumference of a rectangle= 12\n",
      "Area of a circle= 28.274333882308138\n",
      "Circumference of a circle= 18.84955592153876\n"
     ]
    }
   ],
   "source": [
    "import math\n",
    "radius = int(input (\"what is the radius?\"))\n",
    "width = int(input (\"what is the width?\"))\n",
    "Length = int(input (\"what is the Length?\"))\n",
    "\n",
    "area = width * Length\n",
    "circ = (2 * width) + (2 * Length)\n",
    "print ('Area of a rectangle=', area)                \n",
    "print ('Circumference of a rectangle=', circ)\n",
    "\n",
    "Carea = math.pi * radius ** 2\n",
    "Ccirc = 2 * math.pi * radius\n",
    "print ('Area of a circle=', Carea)                \n",
    "print ('Circumference of a circle=', Ccirc)"
   ]
  },
  {
   "cell_type": "code",
   "execution_count": null,
   "id": "121b71f7-b7ce-4072-bf0f-85b2e621edcc",
   "metadata": {},
   "outputs": [],
   "source": []
  }
 ],
 "metadata": {
  "kernelspec": {
   "display_name": "Python 3 (ipykernel)",
   "language": "python",
   "name": "python3"
  },
  "language_info": {
   "codemirror_mode": {
    "name": "ipython",
    "version": 3
   },
   "file_extension": ".py",
   "mimetype": "text/x-python",
   "name": "python",
   "nbconvert_exporter": "python",
   "pygments_lexer": "ipython3",
   "version": "3.13.0"
  }
 },
 "nbformat": 4,
 "nbformat_minor": 5
}
